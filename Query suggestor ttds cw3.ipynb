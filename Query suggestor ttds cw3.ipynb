{
 "cells": [
  {
   "cell_type": "code",
   "execution_count": 24,
   "id": "0a45f362-ee7c-44f0-9bb7-7cc6c1eafcc2",
   "metadata": {},
   "outputs": [
    {
     "name": "stderr",
     "output_type": "stream",
     "text": [
      "Some weights of the model checkpoint at bert-base-uncased were not used when initializing BertForMaskedLM: ['bert.pooler.dense.bias', 'bert.pooler.dense.weight', 'cls.seq_relationship.bias', 'cls.seq_relationship.weight']\n",
      "- This IS expected if you are initializing BertForMaskedLM from the checkpoint of a model trained on another task or with another architecture (e.g. initializing a BertForSequenceClassification model from a BertForPreTraining model).\n",
      "- This IS NOT expected if you are initializing BertForMaskedLM from the checkpoint of a model that you expect to be exactly identical (initializing a BertForSequenceClassification model from a BertForSequenceClassification model).\n"
     ]
    }
   ],
   "source": [
    "import torch\n",
    "from transformers import BertTokenizer, BertForMaskedLM\n",
    "\n",
    "# Load pre-trained BERT model and tokenizer\n",
    "tokenizer = BertTokenizer.from_pretrained('bert-base-uncased')\n",
    "model = BertForMaskedLM.from_pretrained('bert-base-uncased')\n",
    "\n",
    "# Set device\n",
    "device = torch.device(\"cuda\" if torch.cuda.is_available() else \"cpu\")\n",
    "model.to(device)\n",
    "\n",
    "# Define a function to predict next words\n",
    "def predict_next_words(text, top_k=10):\n",
    "    # Tokenize the input text\n",
    "    tokenized_text = tokenizer.tokenize(text)\n",
    "    \n",
    "    # Add [CLS] and [SEP] tokens\n",
    "    tokenized_text = [\"[CLS]\"] + tokenized_text + [\"[SEP]\"]\n",
    "    \n",
    "    # Convert tokens to IDs\n",
    "    indexed_tokens = tokenizer.convert_tokens_to_ids(tokenized_text)\n",
    "    \n",
    "    # Mask the last token\n",
    "    masked_index = len(indexed_tokens) - 1\n",
    "    indexed_tokens[masked_index] = tokenizer.mask_token_id\n",
    "    \n",
    "    # Convert indexed tokens to tensor\n",
    "    tokens_tensor = torch.tensor([indexed_tokens]).to(device)\n",
    "\n",
    "    # Generate predictions\n",
    "    with torch.no_grad():\n",
    "        outputs = model(tokens_tensor)\n",
    "\n",
    "    # Get the predicted probabilities for the masked token\n",
    "    predictions = outputs[0]\n",
    "    predicted_probabilities = predictions[0, masked_index].cpu()\n",
    "\n",
    "    # Get top-k predicted tokens\n",
    "    top_k_probabilities, top_k_indices = predicted_probabilities.topk(top_k)\n",
    "\n",
    "    # Convert token IDs back to words\n",
    "    top_k_words = tokenizer.convert_ids_to_tokens(top_k_indices.tolist())\n",
    "\n",
    "    return top_k_words\n",
    "\n"
   ]
  },
  {
   "cell_type": "code",
   "execution_count": 28,
   "id": "43298883-9089-425c-8926-d4fb4034e4b8",
   "metadata": {},
   "outputs": [
    {
     "name": "stdout",
     "output_type": "stream",
     "text": [
      "Next words: ['science', 'engineering', 'its', 'design', 'the', 'application', '-', 'and', 'analysis', 'development']\n"
     ]
    }
   ],
   "source": [
    "# Example usage\n",
    "text = \"machine learning and\"\n",
    "next_words = predict_next_words(text)\n",
    "print(\"Next words:\", next_words)\n"
   ]
  },
  {
   "cell_type": "code",
   "execution_count": null,
   "id": "ca21759c-12b2-44a5-9488-3a2faf30459a",
   "metadata": {},
   "outputs": [],
   "source": []
  }
 ],
 "metadata": {
  "kernelspec": {
   "display_name": "Python 3 (ipykernel)",
   "language": "python",
   "name": "python3"
  },
  "language_info": {
   "codemirror_mode": {
    "name": "ipython",
    "version": 3
   },
   "file_extension": ".py",
   "mimetype": "text/x-python",
   "name": "python",
   "nbconvert_exporter": "python",
   "pygments_lexer": "ipython3",
   "version": "3.11.7"
  }
 },
 "nbformat": 4,
 "nbformat_minor": 5
}
